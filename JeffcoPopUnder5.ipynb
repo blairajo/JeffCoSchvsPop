{
 "cells": [
  {
   "cell_type": "markdown",
   "id": "9b2bbb12",
   "metadata": {},
   "source": [
    "**Blair Jones**  \n",
    "\n"
   ]
  },
  {
   "cell_type": "markdown",
   "id": "0b002530",
   "metadata": {},
   "source": [
    "<!--- Title cell --->\n",
    "# <font color = blue>Jeffco Population < 5 years</font>\n",
    "\n",
    "***"
   ]
  },
  {
   "cell_type": "code",
   "execution_count": null,
   "id": "cc922950",
   "metadata": {},
   "outputs": [],
   "source": [
    "import pandas as pd"
   ]
  },
  {
   "cell_type": "code",
   "execution_count": null,
   "id": "826c4213",
   "metadata": {},
   "outputs": [],
   "source": [
    "#under 5 pop per zip (exclude zeros)\n",
    "dataset = pd.read_csv(\"zipcodepop2.csv\")\n",
    "dataset.head()"
   ]
  },
  {
   "cell_type": "code",
   "execution_count": null,
   "id": "7fe27fac",
   "metadata": {},
   "outputs": [],
   "source": [
    "#school locations\n",
    "latlonginput = pd.read_csv(\"ElementarySchools.csv\")\n",
    "latlonginput\n",
    "latonly = latlonginput[[\"Lat\"]]"
   ]
  },
  {
   "cell_type": "code",
   "execution_count": null,
   "id": "4de0fb28",
   "metadata": {},
   "outputs": [],
   "source": [
    "#elementary school markers\n",
    "import folium\n",
    "mapit = folium.Map(location=(39.803, -105.089), tiles = \"cartodbpositron\")\n",
    "for index, location_info in latlonginput.iterrows():\n",
    "    folium.Marker([location_info[\"Lat\"], location_info[\"Long\"]]).add_to(mapit);\n",
    "mapit"
   ]
  },
  {
   "cell_type": "code",
   "execution_count": null,
   "id": "1b5aff46",
   "metadata": {},
   "outputs": [],
   "source": [
    "#Children under 5 with elementary school markers\n",
    "from urllib.request import urlopen\n",
    "import json\n",
    "import folium\n",
    "\n",
    "map = folium.Map(location=(39.803, -105.089), tiles = \"cartodbpositron\")\n",
    "\n",
    "zips = json.loads(json.dumps(\"zipdata2.json\"))\n",
    "\n",
    "folium.Choropleth(\n",
    "    geo_data = zips,\n",
    "    name = \"choropleth\",\n",
    "    data = dataset,\n",
    "    columns = [\"Zip\", \"Pop\"],\n",
    "    key_on = \"feature.properties.ZCTA5CE10\",\n",
    "    fill_color = \"Reds\",\n",
    "    fill_opacity = 0.7,\n",
    "    line_opacity = 0.5,\n",
    "    legend_name = \"Number of children under 5\").add_to(map);\n",
    "\n",
    "folium.LayerControl().add_to(map)\n",
    "\n",
    "for index, location_info in latlonginput.iterrows():\n",
    "    folium.Marker([location_info[\"Lat\"], location_info[\"Long\"]]).add_to(map);\n",
    "map"
   ]
  },
  {
   "cell_type": "code",
   "execution_count": null,
   "id": "8f29e36f",
   "metadata": {},
   "outputs": [],
   "source": [
    "dataset2 = pd.read_csv(\"zipcodepop2.csv\")\n",
    "dataset2.head()"
   ]
  },
  {
   "cell_type": "code",
   "execution_count": null,
   "id": "ca62d179",
   "metadata": {},
   "outputs": [],
   "source": [
    "#Children under 5 as % of Population\n",
    "map = folium.Map(location=(39.803, -105.089), tiles = \"cartodbpositron\")\n",
    "\n",
    "zips = json.loads(json.dumps(\"zipdata2.json\"))\n",
    "\n",
    "folium.Choropleth(\n",
    "    geo_data = zips,\n",
    "    name = \"choropleth\",\n",
    "    data = dataset2,\n",
    "    columns = [\"Zip\", \"PerOfPop\"],\n",
    "    key_on = \"feature.properties.ZCTA5CE10\",\n",
    "    fill_color = \"Blues\",\n",
    "    fill_opacity = 0.7,\n",
    "    line_opacity = 0.7,\n",
    "    legend_name = \"Children under 5 as % of Popluation\").add_to(map);\n",
    "\n",
    "folium.LayerControl().add_to(map);\n",
    "map"
   ]
  },
  {
   "cell_type": "code",
   "execution_count": null,
   "id": "b5f5141a",
   "metadata": {},
   "outputs": [],
   "source": [
    "#Number of children under 5 \n",
    "from urllib.request import urlopen\n",
    "import json\n",
    "import folium\n",
    "\n",
    "map = folium.Map(location=(39.803, -105.089), tiles = \"cartodbpositron\")\n",
    "\n",
    "zips = json.loads(json.dumps(\"zipdata2.json\"))\n",
    "\n",
    "folium.Choropleth(\n",
    "    geo_data = zips,\n",
    "    name = \"choropleth\",\n",
    "    data = dataset,\n",
    "    columns = [\"Zip\", \"Pop\"],\n",
    "    key_on = \"feature.properties.ZCTA5CE10\",\n",
    "    fill_color = \"Blues\",\n",
    "    fill_opacity = 0.7,\n",
    "    line_opacity = 0.5,\n",
    "    legend_name = \"Number of children under 5\").add_to(map);\n",
    "\n",
    "folium.LayerControl().add_to(map)\n",
    "\n",
    "map"
   ]
  }
 ],
 "metadata": {
  "kernelspec": {
   "display_name": "Python 3 (ipykernel)",
   "language": "python",
   "name": "python3"
  },
  "language_info": {
   "codemirror_mode": {
    "name": "ipython",
    "version": 3
   },
   "file_extension": ".py",
   "mimetype": "text/x-python",
   "name": "python",
   "nbconvert_exporter": "python",
   "pygments_lexer": "ipython3",
   "version": "3.11.9"
  }
 },
 "nbformat": 4,
 "nbformat_minor": 5
}
